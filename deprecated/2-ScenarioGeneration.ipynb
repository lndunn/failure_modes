{
 "cells": [
  {
   "cell_type": "markdown",
   "metadata": {},
   "source": [
    "# Please excuse the mess!\n",
    "\n",
    "# I haven't properly started working on this notebook\n",
    "\n",
    "\n",
    "### The general idea\n",
    "The general idea is to be able to express failure parameters in terms of really inuitive concepts like \n",
    "- mean time to failure (or expected lifespan -- e.g., 50 years)\n",
    "- min wind speed (where failure rates start to increase)\n",
    "- max wind speed (where failure is basically guaranteed)\n",
    "\n",
    "I would then generate the less-intuitive failure parameters based on these metrics.\n",
    "\n",
    "### Things to revisit\n",
    "\n",
    "To use or not to use the log link function...\n",
    "- **Pros:** Conventional for GLM models of Poisson processes -- guarantees that failure rates aren't negative. \n",
    "- **Cons:** This step feels more complicated than it needs to be.\n",
    "- **Alternative:** Specify non-negative hyperpriors (means I can't use a normal distribution)\n",
    "    \n",
    "Reasonable assumptions for equipment lifetime"
   ]
  },
  {
   "cell_type": "code",
   "execution_count": 1,
   "metadata": {},
   "outputs": [],
   "source": [
    "import pandas as pd\n",
    "import numpy as np\n",
    "from matplotlib import pyplot as plt\n",
    "\n",
    "import utils\n",
    "import links\n",
    "import generators\n",
    "import estimation\n",
    "\n",
    "\n",
    "%load_ext autoreload\n",
    "%autoreload 2\n"
   ]
  },
  {
   "cell_type": "code",
   "execution_count": 2,
   "metadata": {},
   "outputs": [
    {
     "data": {
      "text/plain": [
       "0.8760000000000001"
      ]
     },
     "execution_count": 2,
     "metadata": {},
     "output_type": "execute_result"
    }
   ],
   "source": [
    ".00001*8760*10"
   ]
  },
  {
   "cell_type": "code",
   "execution_count": 3,
   "metadata": {},
   "outputs": [
    {
     "data": {
      "text/html": [
       "<div>\n",
       "<style scoped>\n",
       "    .dataframe tbody tr th:only-of-type {\n",
       "        vertical-align: middle;\n",
       "    }\n",
       "\n",
       "    .dataframe tbody tr th {\n",
       "        vertical-align: top;\n",
       "    }\n",
       "\n",
       "    .dataframe thead th {\n",
       "        text-align: right;\n",
       "    }\n",
       "</style>\n",
       "<table border=\"1\" class=\"dataframe\">\n",
       "  <thead>\n",
       "    <tr style=\"text-align: right;\">\n",
       "      <th></th>\n",
       "      <th>Precip</th>\n",
       "      <th>Temp</th>\n",
       "      <th>Wind</th>\n",
       "      <th>DayPrecip</th>\n",
       "      <th>HotCalm</th>\n",
       "      <th>WindStorm</th>\n",
       "    </tr>\n",
       "    <tr>\n",
       "      <th>time</th>\n",
       "      <th></th>\n",
       "      <th></th>\n",
       "      <th></th>\n",
       "      <th></th>\n",
       "      <th></th>\n",
       "      <th></th>\n",
       "    </tr>\n",
       "  </thead>\n",
       "  <tbody>\n",
       "    <tr>\n",
       "      <th>0</th>\n",
       "      <td>0.0</td>\n",
       "      <td>54.50</td>\n",
       "      <td>5.67</td>\n",
       "      <td>0.0</td>\n",
       "      <td>9.611993</td>\n",
       "      <td>0.0</td>\n",
       "    </tr>\n",
       "    <tr>\n",
       "      <th>1</th>\n",
       "      <td>0.0</td>\n",
       "      <td>53.46</td>\n",
       "      <td>3.85</td>\n",
       "      <td>0.0</td>\n",
       "      <td>13.885714</td>\n",
       "      <td>0.0</td>\n",
       "    </tr>\n",
       "    <tr>\n",
       "      <th>2</th>\n",
       "      <td>0.0</td>\n",
       "      <td>53.16</td>\n",
       "      <td>3.34</td>\n",
       "      <td>0.0</td>\n",
       "      <td>15.916168</td>\n",
       "      <td>0.0</td>\n",
       "    </tr>\n",
       "    <tr>\n",
       "      <th>3</th>\n",
       "      <td>0.0</td>\n",
       "      <td>52.57</td>\n",
       "      <td>3.62</td>\n",
       "      <td>0.0</td>\n",
       "      <td>14.522099</td>\n",
       "      <td>0.0</td>\n",
       "    </tr>\n",
       "    <tr>\n",
       "      <th>4</th>\n",
       "      <td>0.0</td>\n",
       "      <td>51.00</td>\n",
       "      <td>3.77</td>\n",
       "      <td>0.0</td>\n",
       "      <td>13.527851</td>\n",
       "      <td>0.0</td>\n",
       "    </tr>\n",
       "  </tbody>\n",
       "</table>\n",
       "</div>"
      ],
      "text/plain": [
       "      Precip   Temp  Wind  DayPrecip    HotCalm  WindStorm\n",
       "time                                                      \n",
       "0        0.0  54.50  5.67        0.0   9.611993        0.0\n",
       "1        0.0  53.46  3.85        0.0  13.885714        0.0\n",
       "2        0.0  53.16  3.34        0.0  15.916168        0.0\n",
       "3        0.0  52.57  3.62        0.0  14.522099        0.0\n",
       "4        0.0  51.00  3.77        0.0  13.527851        0.0"
      ]
     },
     "execution_count": 3,
     "metadata": {},
     "output_type": "execute_result"
    }
   ],
   "source": [
    "X = pd.read_csv('inputs/weather.csv', index_col='time')\n",
    "X.head()"
   ]
  },
  {
   "cell_type": "code",
   "execution_count": 4,
   "metadata": {},
   "outputs": [
    {
     "name": "stdout",
     "output_type": "stream",
     "text": [
      "Precip 0.005 Precip 0.2312\n",
      "Temp 71.53 Temp 100.72\n",
      "Wind 12.71 Wind 38.36\n",
      "DayPrecip 0.16740500000000194 DayPrecip 1.1754000000000016\n",
      "HotCalm 38.92753623188406 HotCalm 1492.46758499938\n",
      "WindStorm 1.0070245000000002 WindStorm 19.909605011160007\n",
      "47\n"
     ]
    }
   ],
   "source": [
    "for key in X.keys():\n",
    "    print key, np.percentile(X[key],95), key, np.percentile(X[key],99.999)\n",
    "idx = X['WindStorm'] > 10\n",
    "print idx.sum()"
   ]
  },
  {
   "cell_type": "code",
   "execution_count": 3,
   "metadata": {},
   "outputs": [
    {
     "name": "stdout",
     "output_type": "stream",
     "text": [
      "235 641\n"
     ]
    },
    {
     "data": {
      "image/png": "[encoded data removed]",
      "text/plain": [
       "<Figure size 268.199x317.395 with 1 Axes>"
      ]
     },
     "metadata": {
      "needs_background": "light"
     },
     "output_type": "display_data"
    },
    {
     "data": {
      "image/png": "[encoded data removed]",
      "text/plain": [
       "<Figure size 268.199x317.395 with 1 Axes>"
      ]
     },
     "metadata": {
      "needs_background": "light"
     },
     "output_type": "display_data"
    }
   ],
   "source": [
    "\n",
    "import matplotlib.colors as mcolors\n",
    "\n",
    "df = pd.read_csv('raw_data/pge_fires.csv')\n",
    "\n",
    "idx = pd.isnull(df.index)\n",
    "for random in ['Balloons','Animal','Vehicle']:\n",
    "    idx |= df['Contact']==random\n",
    "idx |= df['Equipment'] != 'Conductor'\n",
    "df = df[~idx]\n",
    "\n",
    "idx = pd.isnull(df.index)\n",
    "for fail in ['Crossarm','Splice/Clamp/Connector','Conductor','Pole']:\n",
    "    idx |= df['Failure'] == fail\n",
    "df = df[idx]\n",
    "\n",
    "print len(df), len(idx)\n",
    "fig, ax = plt.subplots(figsize=(0.7*(df['Longitude'].max()-df['Longitude'].min()), \n",
    "                                0.7*(df['Latitude'].max()-df['Latitude'].min())))\n",
    "# H = ax.hist2d(df['Longitude'], df['Latitude'], bins=[np.arange(df['Longitude'].min(), df['Longitude'].max(), 0.15), np.arange(df['Latitude'].min(), df['Latitude'].max(), 0.15)], cmap='Greys', cmin=1, alpha=0.5)\n",
    "\n",
    "idx = df['Size'].isin(['Structure Only','< 3 meters','.26 - 9.99 Acres','< 0.25 Acres','.26 - 9.99 Acres'])\n",
    "ax.plot(df['Longitude'][idx], df['Latitude'][idx], ls=' ', marker='.', markersize=5, markeredgewidth=0.2, color='0.5', label='<10 Acres')\n",
    "\n",
    "\n",
    "\n",
    "colors = ['Gold','darkorange','red','darkred']\n",
    "for i, size in enumerate(['10 - 99 Acres','100 - 299 Acres','300 - 999 Acres','1000 - 4999 Acres']):\n",
    "    idx = df['Size']==size\n",
    "    ax.plot(df['Longitude'][idx], df['Latitude'][idx], ls=' ', marker='X', markersize=8, markeredgecolor='darkorange', markeredgewidth=0.2, color=colors[i], label=size)\n",
    "ax.legend()\n",
    "plt.show()\n",
    "\n",
    "\n",
    "fig, ax = plt.subplots(figsize=(0.7*(df['Longitude'].max()-df['Longitude'].min()), \n",
    "                                0.7*(df['Latitude'].max()-df['Latitude'].min())))\n",
    "H = ax.hist2d(df['Longitude'], df['Latitude'], bins=[np.arange(df['Longitude'].min(), df['Longitude'].max(), 0.15), np.arange(df['Latitude'].min(), df['Latitude'].max(), 0.15)], cmap='Greys', cmin=1, alpha=0.5)\n",
    "\n",
    "colors = ['Gold','darkorange','red','darkred']\n",
    "for i, size in enumerate(['Crossarm','Splice/Clamp/Connector','Conductor','Pole']):\n",
    "    idx = df['Failure']==size\n",
    "    ax.plot(df['Longitude'][idx], df['Latitude'][idx], ls=' ', marker='.', markersize=8, markeredgecolor='darkorange', markeredgewidth=0.2, color=colors[i], label=size)\n",
    "ax.legend()\n",
    "plt.show()\n",
    "\n"
   ]
  },
  {
   "cell_type": "code",
   "execution_count": 42,
   "metadata": {},
   "outputs": [
    {
     "data": {
      "image/png": "[encoded data removed]",
      "text/plain": [
       "<Figure size 720x144 with 3 Axes>"
      ]
     },
     "metadata": {
      "needs_background": "light"
     },
     "output_type": "display_data"
    },
    {
     "name": "stdout",
     "output_type": "stream",
     "text": [
      "slope.DayPrecip         5.0\n",
      "slope.Wind              0.2\n",
      "threshold.DayPrecip     0.0\n",
      "threshold.Wind         65.0\n",
      "dtype: float64\n",
      "link 0.01889096193703918\n",
      "here 0.01889096193703918\n",
      "slope.DayPrecip        10.0\n",
      "slope.Wind              0.2\n",
      "threshold.DayPrecip     0.0\n",
      "threshold.Wind         65.0\n",
      "dtype: float64\n",
      "link 0.788181730830441\n",
      "here 0.788181730830441\n",
      "slope.DayPrecip        15.0\n",
      "slope.Wind              0.2\n",
      "threshold.DayPrecip     0.0\n",
      "threshold.Wind         65.0\n",
      "dtype: float64\n",
      "link 0.9988092732407773\n",
      "here 0.9988092732407773\n",
      "slope.DayPrecip        20.0\n",
      "slope.Wind              0.2\n",
      "threshold.DayPrecip     0.0\n",
      "threshold.Wind         65.0\n",
      "dtype: float64\n",
      "link 0.9999962808065184\n",
      "here 0.9999962808065184\n"
     ]
    }
   ],
   "source": [
    "wind = np.linspace(0,150,100)\n",
    "rain = np.linspace(0,1.5,100)\n",
    "both = np.linspace(0,20,100)\n",
    "\n",
    "bins = [wind,rain,both]\n",
    "\n",
    "ww, rr = np.meshgrid(wind, rain)\n",
    "xvals = pd.DataFrame(zip(ww.flatten(), rr.flatten()))\n",
    "\n",
    "beta_w = [0.2,]\n",
    "threshold_w = [65,]\n",
    "beta_r = [5,10,15,20,]\n",
    "threshold_r = [0,]\n",
    "\n",
    "fig, ax = plt.subplots(ncols=3, figsize=(10,2))\n",
    "for i, col in enumerate(['Wind','DayPrecip','WindStorm']):\n",
    "    ax[i].hist(X[col].tolist(), bins=bins[i])\n",
    "plt.show()\n",
    "\n",
    "\n",
    "xx, yy = np.meshgrid(wind, rain)\n",
    "\n",
    "cols = ['Wind','DayPrecip']\n",
    "for betas in [(b_w, b_r) for b_w in beta_w for b_r in beta_r]:\n",
    "    for thresholds in [(t_w, t_r) for t_w in threshold_w for t_r in threshold_r]:\n",
    "#         _probs = 1./(1+np.exp(-1*(sum([betas[i]*(xvals[i]-(thresholds[i])) for i in xvals.keys()]))))\n",
    "#         _probs = np.array(probs).reshape(ww.shape)\n",
    "\n",
    "#         fig, ax = plt.subplots()\n",
    "#         ax.contour(xx, yy, probs)#, bins=[wind,rain], weights=probs)\n",
    "#         plt.show()\n",
    "        \n",
    "        _probs = 1./(1+np.exp(-1*(sum([betas[i]*(X[cols[i]]-(thresholds[i])) for i in xvals.keys()]))))\n",
    "        params = pd.Series({'threshold.Wind': thresholds[0], \n",
    "                            'threshold.DayPrecip': thresholds[1], \n",
    "                            'slope.Wind': betas[0], \n",
    "                            'slope.DayPrecip': betas[1]})\n",
    "        print params\n",
    "        probs = links.Link().failure_prob(params, X)\n",
    "        print 'link', probs.max()\n",
    "        print 'here', _probs.max()\n",
    "        \n",
    "        \n",
    "\n",
    "\n",
    "# for threshold in [15,20,25,30,40]:\n",
    "#     tol = 1./(8760*100)\n",
    "#     beta_1 = (1./(threshold+50))*np.log(1./tol-1)\n",
    "#     lam = 1./(1+np.exp(-1*(beta_1*(wind-(threshold+50)))))\n",
    "\n",
    "#     if threshold == 15:\n",
    "#         fig, ax = plt.subplots()\n",
    "#         ax.plot(wind, lam)\n",
    "#         ax.set_title(threshold)\n",
    "#         plt.show()\n",
    "        \n",
    "        \n",
    "#     print threshold, '\\t', beta_1\n"
   ]
  },
  {
   "cell_type": "code",
   "execution_count": 15,
   "metadata": {},
   "outputs": [
    {
     "name": "stdout",
     "output_type": "stream",
     "text": [
      "0.09380809044002497\n",
      "0.09380809044002497\n",
      "0.09380809044002497\n",
      "0.09380809044002497\n"
     ]
    }
   ],
   "source": [
    "idx = X['DayPrecip'] >= X['DayPrecip'].sort_values(ascending=False).iloc[3*24]\n",
    "\n",
    "precip = np.linspace(0,X['DayPrecip'].max(), 100)\n",
    "wind = np.linspace(0,100, 100)\n",
    "\n",
    "for threshold in [0.6,0.7,0.8, 0.9]:\n",
    "    \n",
    "    for windT in [15,20,25,30,40]:\n",
    "        tol = 1./(8760*100)\n",
    "        beta_2 = (1./threshold)*np.log(1./tol-1)\n",
    "        lam = 1./(1+np.exp(-1*(1.*(precip-threshold)+0.2*(wind-(windT+50)))))\n",
    "        beta_2 = 15\n",
    "\n",
    "#         fig, ax = plt.subplots(ncols=3, figsize=(7,3))\n",
    "#         ax[0].plot(precip, lam)\n",
    "#         ax[0].set_title(threshold)\n",
    "#         ax[1].plot(wind, lam)\n",
    "#         ax[1].set_title(15)\n",
    "#         ax[2].hist((1./1+np.exp(-1*(beta_2*(X['Day'])))))\n",
    "#         plt.show()\n",
    "        \n",
    "        scenario = pd.Series(['constant', 0.2, 'constant', windT+50, 'constant', beta_2, 'constant', 0.6], \n",
    "                             index=['Wind.slope_distribution', 'Wind.slope_hyperparams', \n",
    "                                   'Wind.threshold_distribution', 'Wind.threshold_hyperparams',\n",
    "                                   'DayPrecip.slope_distribution','DayPrecip.slope_hyperparams',\n",
    "                                   'DayPrecip.threshold_distribution','DayPrecip.threshold_hyperparams'])\n",
    "        params = generators.params(scenario, fleet_size=10000)\n",
    "        p = links.Link().failure_prob(params.drop_duplicates(), X)\n",
    "        print p.max()\n",
    "        break"
   ]
  },
  {
   "cell_type": "code",
   "execution_count": 6,
   "metadata": {},
   "outputs": [
    {
     "name": "stdout",
     "output_type": "stream",
     "text": [
      "      Precip   Temp  Wind  DayPrecip    HotCalm  WindStorm\n",
      "time                                                      \n",
      "0        0.0  54.50  5.67        0.0   9.611993        0.0\n",
      "1        0.0  53.46  3.85        0.0  13.885714        0.0\n",
      "2        0.0  53.16  3.34        0.0  15.916168        0.0\n",
      "3        0.0  52.57  3.62        0.0  14.522099        0.0\n",
      "4        0.0  51.00  3.77        0.0  13.527851        0.0\n"
     ]
    }
   ],
   "source": [
    "print X.head()\n",
    "\n"
   ]
  },
  {
   "cell_type": "code",
   "execution_count": 7,
   "metadata": {},
   "outputs": [
    {
     "name": "stdout",
     "output_type": "stream",
     "text": [
      "99 3.663983519999964\n"
     ]
    },
    {
     "data": {
      "image/png": "[encoded data removed]",
      "text/plain": [
       "<Figure size 432x288 with 1 Axes>"
      ]
     },
     "metadata": {
      "needs_background": "light"
     },
     "output_type": "display_data"
    },
    {
     "name": "stdout",
     "output_type": "stream",
     "text": [
      "99.9 8.414246628000303\n"
     ]
    },
    {
     "data": {
      "image/png": "[encoded data removed]",
      "text/plain": [
       "<Figure size 432x288 with 1 Axes>"
      ]
     },
     "metadata": {
      "needs_background": "light"
     },
     "output_type": "display_data"
    },
    {
     "name": "stdout",
     "output_type": "stream",
     "text": [
      "99.99 13.69618069939973\n"
     ]
    },
    {
     "data": {
      "image/png": "[encoded data removed]",
      "text/plain": [
       "<Figure size 432x288 with 1 Axes>"
      ]
     },
     "metadata": {
      "needs_background": "light"
     },
     "output_type": "display_data"
    },
    {
     "name": "stdout",
     "output_type": "stream",
     "text": [
      "99.999 19.909605011160007\n"
     ]
    },
    {
     "name": "stderr",
     "output_type": "stream",
     "text": [
      "/Users/laureldunn/anaconda2/lib/python2.7/site-packages/matplotlib/axes/_base.py:3471: UserWarning: Attempting to set identical bottom==top results\n",
      "in singular transformations; automatically expanding.\n",
      "bottom=1.0, top=1.0\n",
      "  'bottom=%s, top=%s') % (bottom, top))\n"
     ]
    },
    {
     "data": {
      "image/png": "[encoded data removed]",
      "text/plain": [
       "<Figure size 432x288 with 1 Axes>"
      ]
     },
     "metadata": {
      "needs_background": "light"
     },
     "output_type": "display_data"
    }
   ],
   "source": [
    "for t in [99,99.9, 99.99,99.999]:\n",
    "    idx = X['WindStorm'] > np.percentile(X['WindStorm'], t)\n",
    "    \n",
    "    print t, np.percentile(X['WindStorm'], t)\n",
    "    fig, ax = plt.subplots()\n",
    "    ax.hist(X['WindStorm'].loc[idx].tolist(), bins=50, log=True)\n",
    "    idx = X['WindStorm'].loc[idx].tolist()\n",
    "    plt.show()"
   ]
  },
  {
   "cell_type": "code",
   "execution_count": null,
   "metadata": {},
   "outputs": [],
   "source": []
  },
  {
   "cell_type": "code",
   "execution_count": null,
   "metadata": {},
   "outputs": [],
   "source": []
  },
  {
   "cell_type": "code",
   "execution_count": 36,
   "metadata": {},
   "outputs": [
    {
     "name": "stdout",
     "output_type": "stream",
     "text": [
      "95 13.51\n",
      "99 18.59\n",
      "99.9 26.304010000000126\n",
      "99.99 32.69265099998855\n",
      "99.999 41.10184029999451\n"
     ]
    },
    {
     "data": {
      "image/png": "[encoded data removed]",
      "text/plain": [
       "<Figure size 432x288 with 1 Axes>"
      ]
     },
     "metadata": {
      "needs_background": "light"
     },
     "output_type": "display_data"
    },
    {
     "name": "stdout",
     "output_type": "stream",
     "text": [
      "95 13.51\n",
      "99 18.59\n",
      "99.9 26.304010000000126\n",
      "99.99 32.69265099998855\n",
      "99.999 41.10184029999451\n"
     ]
    },
    {
     "data": {
      "image/png": "[encoded data removed]",
      "text/plain": [
       "<Figure size 432x288 with 1 Axes>"
      ]
     },
     "metadata": {
      "needs_background": "light"
     },
     "output_type": "display_data"
    },
    {
     "name": "stdout",
     "output_type": "stream",
     "text": [
      "95 13.51\n",
      "99 18.59\n",
      "99.9 26.304010000000126\n",
      "99.99 32.69265099998855\n",
      "99.999 41.10184029999451\n"
     ]
    },
    {
     "data": {
      "image/png": "[encoded data removed]",
      "text/plain": [
       "<Figure size 432x288 with 1 Axes>"
      ]
     },
     "metadata": {
      "needs_background": "light"
     },
     "output_type": "display_data"
    },
    {
     "name": "stdout",
     "output_type": "stream",
     "text": [
      "95 13.51\n",
      "99 18.59\n",
      "99.9 26.304010000000126\n",
      "99.99 32.69265099998855\n",
      "99.999 41.10184029999451\n"
     ]
    },
    {
     "data": {
      "image/png": "[encoded data removed]",
      "text/plain": [
       "<Figure size 432x288 with 1 Axes>"
      ]
     },
     "metadata": {
      "needs_background": "light"
     },
     "output_type": "display_data"
    },
    {
     "name": "stdout",
     "output_type": "stream",
     "text": [
      "95 13.51\n",
      "99 18.59\n",
      "99.9 26.304010000000126\n",
      "99.99 32.69265099998855\n",
      "99.999 41.10184029999451\n"
     ]
    },
    {
     "data": {
      "image/png": "[encoded data removed]",
      "text/plain": [
       "<Figure size 432x288 with 1 Axes>"
      ]
     },
     "metadata": {
      "needs_background": "light"
     },
     "output_type": "display_data"
    }
   ],
   "source": [
    "lims = [95,99,99.9,99.99,99.999]\n",
    "covs = [0.1, 0.2, 0.3]\n",
    "# colors = ['g','b','r']\n",
    "\n",
    "for i, cov in enumerate(covs):\n",
    "    fig, ax = plt.subplots()\n",
    "    ax.hist(X['Wind'].tolist(), cumulative=True, bins=np.logspace(0,2,100), alpha=0.5)\n",
    "    axlims = ax.get_ylim()\n",
    "    for lim in lims:\n",
    "        print lim, np.percentile(X['Wind'], lim)\n",
    "        ax.vlines(np.percentile(X['Wind'], lim), *axlims, color='k')\n",
    "        sig = cov * np.percentile(X['Wind'], lim)\n",
    "        ax.hlines((i+1)*10000, np.percentile(X['Wind'], lim)-sig, np.percentile(X['Wind'], lim)+sig, alpha=0.2)\n",
    "    # ax.set_xscale('log')\n",
    "    ax.set_xlim(0,50)\n",
    "    plt.show()"
   ]
  },
  {
   "cell_type": "code",
   "execution_count": 37,
   "metadata": {},
   "outputs": [],
   "source": [
    "time_to_failure = 50 # years"
   ]
  },
  {
   "cell_type": "code",
   "execution_count": 38,
   "metadata": {},
   "outputs": [],
   "source": [
    "lam = 1./(time_to_failure*8760)"
   ]
  },
  {
   "cell_type": "code",
   "execution_count": 39,
   "metadata": {},
   "outputs": [
    {
     "data": {
      "text/plain": [
       "2.2831050228310503e-06"
      ]
     },
     "execution_count": 39,
     "metadata": {},
     "output_type": "execute_result"
    }
   ],
   "source": [
    "lam"
   ]
  },
  {
   "cell_type": "code",
   "execution_count": 40,
   "metadata": {},
   "outputs": [
    {
     "data": {
      "text/plain": [
       "-12.989974189358582"
      ]
     },
     "execution_count": 40,
     "metadata": {},
     "output_type": "execute_result"
    }
   ],
   "source": [
    "np.log(lam)"
   ]
  },
  {
   "cell_type": "code",
   "execution_count": 47,
   "metadata": {},
   "outputs": [],
   "source": [
    "wind_low = 20\n",
    "wind_high = 100\n",
    "\n",
    "time_low = 100\n",
    "time_high = 1./8760\n",
    "\n",
    "lam_low = 1./(time_low*8760)\n",
    "lam_high = 1./(time_high*8760)\n",
    "\n",
    "b = np.log(lam_low)\n",
    "a = (1./(wind_high-wind_low))*(np.log(lam_high)-np.log(lam_low))"
   ]
  },
  {
   "cell_type": "code",
   "execution_count": 52,
   "metadata": {},
   "outputs": [],
   "source": [
    "wind = np.linspace(0,110)\n",
    "lam = np.exp(a*pd.Series(wind-wind_low).where(wind>wind_low,0)+b)"
   ]
  },
  {
   "cell_type": "code",
   "execution_count": 53,
   "metadata": {},
   "outputs": [
    {
     "data": {
      "image/png": "[encoded data removed]",
      "text/plain": [
       "<Figure size 432x288 with 1 Axes>"
      ]
     },
     "metadata": {
      "needs_background": "light"
     },
     "output_type": "display_data"
    }
   ],
   "source": [
    "fig, ax = plt.subplots()\n",
    "ax.plot(wind, lam)\n",
    "ax.set_ylabel('Time to failure (hours)')\n",
    "plt.show()"
   ]
  },
  {
   "cell_type": "code",
   "execution_count": 45,
   "metadata": {},
   "outputs": [
    {
     "data": {
      "text/plain": [
       "(16.32, 18.32, 22.04)"
      ]
     },
     "execution_count": 45,
     "metadata": {},
     "output_type": "execute_result"
    }
   ],
   "source": [
    "np.percentile(X['Wind'], 99), np.percentile(X['Wind'], 99.5), np.percentile(X['Wind'], 99.9)"
   ]
  },
  {
   "cell_type": "code",
   "execution_count": null,
   "metadata": {},
   "outputs": [],
   "source": []
  }
 ],
 "metadata": {
  "kernelspec": {
   "display_name": "Python 2",
   "language": "python",
   "name": "python2"
  },
  "language_info": {
   "codemirror_mode": {
    "name": "ipython",
    "version": 2
   },
   "file_extension": ".py",
   "mimetype": "text/x-python",
   "name": "python",
   "nbconvert_exporter": "python",
   "pygments_lexer": "ipython2",
   "version": "2.7.16"
  }
 },
 "nbformat": 4,
 "nbformat_minor": 2
}
