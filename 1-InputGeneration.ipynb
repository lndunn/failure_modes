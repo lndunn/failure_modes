{
 "cells": [
  {
   "cell_type": "code",
   "execution_count": 1,
   "metadata": {},
   "outputs": [],
   "source": [
    "import pandas as pd\n",
    "import numpy as np\n",
    "from scipy import stats\n",
    "from matplotlib import pyplot as plt\n",
    "import os\n",
    "\n",
    "%matplotlib inline"
   ]
  },
  {
   "cell_type": "markdown",
   "metadata": {},
   "source": [
    "# This notebook generates weather data to use as input\n",
    "\n",
    "Procedure is as follows:\n",
    "- Read in weather data for a site in Northern California (3 years of data)\n",
    "- Examine statistical properties of relevant weather variables\n",
    "- Generate a longer time series with similar properties\n",
    "\n",
    "\n",
    "Underlying assumptions ... \n",
    "- Time series observations are IID (obviously this is false)\n",
    "- Weather variables are mutually uncorrelated (also false)\n",
    "\n",
    "The reason I did this is that I wanted realistic weather values, and 3 years is much less than what grid operators would have available to them. My PG&E guy said he had 10 years, so I'm generating 10 years. Who knows how realistic that is. Maybe it should be 5, or 50, or 100, or all of the above. For now ... it's 10."
   ]
  },
  {
   "cell_type": "code",
   "execution_count": 2,
   "metadata": {},
   "outputs": [],
   "source": [
    "weatherData = pd.read_csv('raw_data/raw_weather_data.csv', usecols=['temperature','precipIntensity','windSpeed'])\n",
    "\n",
    "idx = pd.notnull(weatherData['windSpeed'])\n",
    "params = stats.lognorm.fit(weatherData['windSpeed'][idx])\n",
    "\n",
    "X = pd.DataFrame(stats.lognorm.rvs(size=10*8760, *params), columns=['windSpeed'])\n"
   ]
  },
  {
   "cell_type": "code",
   "execution_count": 6,
   "metadata": {},
   "outputs": [
    {
     "data": {
      "image/png": "[encoded data removed]",
      "text/plain": [
       "<Figure size 576x144 with 6 Axes>"
      ]
     },
     "metadata": {
      "needs_background": "light"
     },
     "output_type": "display_data"
    }
   ],
   "source": [
    "variables = {'windSpeed': stats.lognorm,\n",
    "            'temperature': stats.norm,\n",
    "            'precipIntensity': stats.lognorm,}\n",
    "\n",
    "labels = {'windSpeed': 'Wind Speed (m/s)',\n",
    "         'temperature': 'Ambient Temperature (C)',\n",
    "         'precipIntensity': 'Precipitation (mm?)'}\n",
    "\n",
    "distributions = {'windSpeed': 'Lognormal',\n",
    "         'temperature': 'Normal',\n",
    "         'precipIntensity': 'Exponential'}\n",
    "\n",
    "colors = ['g','b','r']\n",
    "\n",
    "param_approx = {}\n",
    "\n",
    "fig, ax = plt.subplots(figsize=(8,2), ncols=3)\n",
    "\n",
    "for i, var in enumerate(variables.keys()):    \n",
    "    idx = pd.notnull(weatherData[var])  \n",
    "    if i == 1:\n",
    "        idx &= weatherData[var]>0#0.0010\n",
    "    params = variables[var].fit(weatherData[var][idx])\n",
    "    \n",
    "    param_approx[var] = params\n",
    "    \n",
    "#     if i == 1:\n",
    "#         bins=np.linspace(0,0.1,100)\n",
    "#     else:\n",
    "    bins=100\n",
    "\n",
    "    ax[i].hist(weatherData[var][idx].tolist(), bins=bins, label='Observations', color=colors[i], alpha=0.5)\n",
    "        \n",
    "    ax2 = ax[i].twinx()\n",
    "    xvals = np.linspace(weatherData[var].min(), weatherData[var].max(), 100)\n",
    "    ax2.plot(xvals, variables[var].pdf(xvals, *params), color=colors[i], lw=2, label='%s Approx'%(distributions[var]))\n",
    "    if i == 1:\n",
    "        ax[i].set_yscale('log')\n",
    "        ax2.set_yscale('log')\n",
    "    else:\n",
    "        ax2.set_ylim(0,ax2.get_ylim()[1])\n",
    "    \n",
    "    ax[i].set_title(var.upper())\n",
    "    ax[i].set_yticks([])\n",
    "    ax2.set_yticks([])\n",
    "    ax[i].set_xlabel(labels[var])\n",
    "                \n",
    "fig.subplots_adjust(wspace=0.075, left=0.025, right=0.975, bottom=0.25)\n",
    "\n",
    "plt.savefig('figures/ambient_conditions.png', dpi=100)\n",
    "\n"
   ]
  },
  {
   "cell_type": "code",
   "execution_count": 5,
   "metadata": {},
   "outputs": [],
   "source": [
    "X = pd.DataFrame(columns=['Wind','Precip','Temp'],\n",
    "                 index=range(10*8760))\n",
    "\n",
    "X['Wind'] = np.round(stats.lognorm.rvs(*param_approx['windSpeed'], size=len(X)),2)\n",
    "X['Temp'] = np.round(stats.norm.rvs(*param_approx['temperature'], size=len(X)),2)\n",
    "\n",
    "X['Precip'] = stats.bernoulli.rvs(sum(weatherData['precipIntensity']>0)/float(len(weatherData)), size=len(X))\n",
    "\n",
    "idx = X['Precip'] == 1\n",
    "X['Precip'].loc[idx] = np.round(stats.lognorm.rvs(*param_approx['precipIntensity'], size=sum(idx)),4)\n",
    "\n",
    "X.to_csv('inputs/weather.csv', index_label='time')"
   ]
  },
  {
   "cell_type": "code",
   "execution_count": null,
   "metadata": {},
   "outputs": [],
   "source": []
  }
 ],
 "metadata": {
  "kernelspec": {
   "display_name": "Python 2",
   "language": "python",
   "name": "python2"
  },
  "language_info": {
   "codemirror_mode": {
    "name": "ipython",
    "version": 2
   },
   "file_extension": ".py",
   "mimetype": "text/x-python",
   "name": "python",
   "nbconvert_exporter": "python",
   "pygments_lexer": "ipython2",
   "version": "2.7.16"
  }
 },
 "nbformat": 4,
 "nbformat_minor": 2
}
