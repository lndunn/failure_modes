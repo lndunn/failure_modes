{
 "cells": [
  {
   "cell_type": "code",
   "execution_count": 2,
   "metadata": {},
   "outputs": [
    {
     "ename": "ImportError",
     "evalue": "Unable to import required dependencies:\nnumpy: No module named 'unittest'",
     "output_type": "error",
     "traceback": [
      "\u001b[0;31m---------------------------------------------------------------------------\u001b[0m",
      "\u001b[0;31mImportError\u001b[0m                               Traceback (most recent call last)",
      "\u001b[0;32m<ipython-input-2-5d56e679e560>\u001b[0m in \u001b[0;36m<module>\u001b[0;34m\u001b[0m\n\u001b[0;32m----> 1\u001b[0;31m \u001b[0;32mimport\u001b[0m \u001b[0mpandas\u001b[0m \u001b[0;32mas\u001b[0m \u001b[0mpd\u001b[0m\u001b[0;34m\u001b[0m\u001b[0;34m\u001b[0m\u001b[0m\n\u001b[0m\u001b[1;32m      2\u001b[0m \u001b[0;32mimport\u001b[0m \u001b[0mnumpy\u001b[0m \u001b[0;32mas\u001b[0m \u001b[0mnp\u001b[0m\u001b[0;34m\u001b[0m\u001b[0;34m\u001b[0m\u001b[0m\n\u001b[1;32m      3\u001b[0m \u001b[0;32mfrom\u001b[0m \u001b[0mscipy\u001b[0m \u001b[0;32mimport\u001b[0m \u001b[0mstats\u001b[0m\u001b[0;34m\u001b[0m\u001b[0;34m\u001b[0m\u001b[0m\n\u001b[1;32m      4\u001b[0m \u001b[0;32mfrom\u001b[0m \u001b[0mmatplotlib\u001b[0m \u001b[0;32mimport\u001b[0m \u001b[0mpyplot\u001b[0m \u001b[0;32mas\u001b[0m \u001b[0mplt\u001b[0m\u001b[0;34m\u001b[0m\u001b[0;34m\u001b[0m\u001b[0m\n\u001b[1;32m      5\u001b[0m \u001b[0;32mimport\u001b[0m \u001b[0mos\u001b[0m\u001b[0;34m\u001b[0m\u001b[0;34m\u001b[0m\u001b[0m\n",
      "\u001b[0;32m/usr/local/lib/python3.7/site-packages/pandas/__init__.py\u001b[0m in \u001b[0;36m<module>\u001b[0;34m\u001b[0m\n\u001b[1;32m     15\u001b[0m \u001b[0;32mif\u001b[0m \u001b[0mmissing_dependencies\u001b[0m\u001b[0;34m:\u001b[0m\u001b[0;34m\u001b[0m\u001b[0;34m\u001b[0m\u001b[0m\n\u001b[1;32m     16\u001b[0m     raise ImportError(\n\u001b[0;32m---> 17\u001b[0;31m         \u001b[0;34m\"Unable to import required dependencies:\\n\"\u001b[0m \u001b[0;34m+\u001b[0m \u001b[0;34m\"\\n\"\u001b[0m\u001b[0;34m.\u001b[0m\u001b[0mjoin\u001b[0m\u001b[0;34m(\u001b[0m\u001b[0mmissing_dependencies\u001b[0m\u001b[0;34m)\u001b[0m\u001b[0;34m\u001b[0m\u001b[0;34m\u001b[0m\u001b[0m\n\u001b[0m\u001b[1;32m     18\u001b[0m     )\n\u001b[1;32m     19\u001b[0m \u001b[0;32mdel\u001b[0m \u001b[0mhard_dependencies\u001b[0m\u001b[0;34m,\u001b[0m \u001b[0mdependency\u001b[0m\u001b[0;34m,\u001b[0m \u001b[0mmissing_dependencies\u001b[0m\u001b[0;34m\u001b[0m\u001b[0;34m\u001b[0m\u001b[0m\n",
      "\u001b[0;31mImportError\u001b[0m: Unable to import required dependencies:\nnumpy: No module named 'unittest'"
     ]
    }
   ],
   "source": [
    "import pandas as pd\n",
    "import numpy as np\n",
    "from scipy import stats\n",
    "from matplotlib import pyplot as plt\n",
    "import os\n",
    "\n",
    "%matplotlib inline\n",
    "\n",
    "weather_file_path = '../raw_data/raw_weather_data.csv'\n",
    "input_file_path = '../inputs/weather.csv'\n",
    "figures_path = '../figures/'"
   ]
  },
  {
   "cell_type": "markdown",
   "metadata": {},
   "source": [
    "# This notebook generates weather data to use as input\n",
    "\n",
    "Procedure is as follows:\n",
    "- Read in weather data for a site in Northern California (3 years of data)\n",
    "- Examine statistical properties of relevant weather variables\n",
    "- Generate a longer time series with similar properties\n",
    "\n",
    "\n",
    "Underlying assumptions ... \n",
    "- Time series observations are IID (obviously this is false)\n",
    "- Weather variables are mutually uncorrelated (also false)\n",
    "\n",
    "The reason I did this is that I wanted realistic weather values, and 3 years is much less than what grid operators would have available to them. My PG&E guy said he had 10 years, so I'm generating 10 years. Who knows how realistic that is. Maybe it should be 5, or 50, or 100, or all of the above. For now ... it's 10."
   ]
  },
  {
   "cell_type": "code",
   "execution_count": 5,
   "metadata": {},
   "outputs": [],
   "source": [
    "weatherData = pd.read_csv(weather_file_path, usecols=['temperature','precipIntensity','windSpeed'])\n",
    "\n",
    "days = [weatherData.index[i:i+24] for i in range(len(weatherData.index)) if i % 24 == 0]\n",
    "\n",
    "np.random.seed(seed=2)\n",
    "bootstrap_days = np.random.choice(range(len(days)), replace=True, size=10*365)\n",
    "\n",
    "bootstrap_index = []\n",
    "for i in bootstrap_days:\n",
    "    bootstrap_index.extend(days[i])\n",
    "\n",
    "X = weatherData.loc[bootstrap_index].reset_index(drop=True).rename(columns={'temperature': 'Temp',\n",
    "                                                           'precipIntensity': 'Precip',\n",
    "                                                           'windSpeed': 'Wind'})\n",
    "\n",
    "X['Wind'].loc[X['Wind']==0] = 1e-1\n",
    "\n",
    "X = X.interpolate()\n",
    "\n",
    "X['DayPrecip'] = X[['Precip']].rolling(24).sum()\n",
    "X['DayPrecip'].loc[:24] = X['Precip'].loc[:24].sum()\n",
    "\n",
    "X['HotCalm'] = X['Temp'] * (1./X['Wind'])\n",
    "X['WindStorm'] = X['Wind'] * X['DayPrecip']\n",
    "\n",
    "X.to_csv(input_file_path, index_label='time')"
   ]
  },
  {
   "cell_type": "code",
   "execution_count": 17,
   "metadata": {},
   "outputs": [
    {
     "name": "stdout",
     "output_type": "stream",
     "text": [
      "15 27833.6 1485\n",
      "16 20401.2 1014\n",
      "17 14970.8 708\n",
      "18 11004.0 509\n",
      "19 8104.6 315\n",
      "20 5982.9 221\n",
      "21 4427.9 137\n",
      "22 3285.8 90\n",
      "23 2445.2 67\n",
      "24 1824.9 53\n",
      "25 1366.0 39\n",
      "26 1025.6 25\n",
      "27 772.3 17\n",
      "28 583.3 17\n",
      "29 441.9 12\n",
      "30 335.8 12\n",
      "31 255.9 9\n",
      "32 195.6 9\n",
      "33 149.9 9\n",
      "34 115.3 9\n",
      "35 88.9 9\n",
      "36 68.7 6\n",
      "37 53.2 6\n",
      "38 41.4 3\n",
      "39 32.3 0\n",
      "40 25.2 0\n",
      "41 19.7 0\n",
      "42 15.5 0\n",
      "43 12.2 0\n",
      "44 9.6 0\n",
      "45 7.6 0\n",
      "46 6.0 0\n",
      "47 4.8 0\n",
      "48 3.8 0\n",
      "49 3.0 0\n",
      "50 2.4 0\n",
      "51 2.0 0\n",
      "52 1.6 0\n",
      "53 1.3 0\n",
      "54 1.0 0\n",
      "55 0.8 0\n",
      "56 0.7 0\n",
      "57 0.5 0\n",
      "58 0.4 0\n",
      "59 0.4 0\n",
      "60 0.3 0\n",
      "61 0.2 0\n",
      "62 0.2 0\n",
      "63 0.2 0\n",
      "64 0.1 0\n",
      "65 0.1 0\n",
      "66 0.1 0\n",
      "67 0.1 0\n",
      "68 0.1 0\n",
      "69 0.0 0\n",
      "70 0.0 0\n",
      "71 0.0 0\n",
      "72 0.0 0\n",
      "73 0.0 0\n",
      "74 0.0 0\n",
      "75 0.0 0\n",
      "76 0.0 0\n",
      "77 0.0 0\n",
      "78 0.0 0\n",
      "79 0.0 0\n",
      "80 0.0 0\n",
      "81 0.0 0\n",
      "82 0.0 0\n",
      "83 0.0 0\n",
      "84 0.0 0\n",
      "85 0.0 0\n",
      "86 0.0 0\n",
      "87 0.0 0\n",
      "88 0.0 0\n",
      "89 0.0 0\n",
      "90 0.0 0\n",
      "91 0.0 0\n",
      "92 0.0 0\n",
      "93 0.0 0\n",
      "94 0.0 0\n",
      "95 0.0 0\n",
      "96 0.0 0\n",
      "97 0.0 0\n",
      "98 0.0 0\n",
      "99 0.0 0\n"
     ]
    }
   ],
   "source": [
    "params = stats.lognorm.fit(weatherData['windSpeed'][pd.notnull(weatherData['windSpeed'])])\n",
    "\n",
    "for t in range(15,100):\n",
    "    print t, np.round(100*8760*(1-stats.lognorm.cdf(t, *params)),1), sum(X['Wind']>t)"
   ]
  },
  {
   "cell_type": "code",
   "execution_count": 5,
   "metadata": {},
   "outputs": [
    {
     "data": {
      "text/plain": [
       "100.96"
      ]
     },
     "execution_count": 5,
     "metadata": {},
     "output_type": "execute_result"
    }
   ],
   "source": [
    "idx = X\n",
    "np.percentile(X['HotCalm'], 99)"
   ]
  },
  {
   "cell_type": "code",
   "execution_count": 6,
   "metadata": {},
   "outputs": [
    {
     "name": "stdout",
     "output_type": "stream",
     "text": [
      "0.22        1\n",
      "0.21        6\n",
      "0.20        0\n",
      "0.19        2\n",
      "0.18        0\n",
      "0.17        2\n",
      "0.16       13\n",
      "0.15       12\n",
      "0.14        3\n",
      "0.13       14\n",
      "0.12       10\n",
      "0.11       24\n",
      "0.10       21\n",
      "0.09       56\n",
      "0.08       47\n",
      "0.07       43\n",
      "0.06       57\n",
      "0.05      120\n",
      "0.04      207\n",
      "0.03      245\n",
      "0.02      373\n",
      "0.01      680\n",
      "0.00    85661\n",
      "dtype: int64\n"
     ]
    }
   ],
   "source": [
    "H = np.histogram(X['Precip'], bins=np.arange(0,X['Precip'].max(),0.01))\n",
    "series = pd.Series(H[0], H[1][:-1], H[0])\n",
    "print series.sort_index(ascending=False)"
   ]
  },
  {
   "cell_type": "code",
   "execution_count": 6,
   "metadata": {},
   "outputs": [],
   "source": [
    "weatherData = pd.read_csv(weather_file_path, usecols=['temperature','precipIntensity','windSpeed'])\n",
    "\n",
    "idx = pd.notnull(weatherData['windSpeed'])\n",
    "params = stats.lognorm.fit(weatherData['windSpeed'][idx])\n",
    "\n",
    "X = pd.DataFrame(stats.lognorm.rvs(size=10*8760, *params), columns=['windSpeed'])\n"
   ]
  },
  {
   "cell_type": "markdown",
   "metadata": {},
   "source": [
    "### Plot weather distribution"
   ]
  },
  {
   "cell_type": "code",
   "execution_count": 9,
   "metadata": {},
   "outputs": [
    {
     "data": {
      "image/png": "[encoded data removed]",
      "text/plain": [
       "<Figure size 576x144 with 6 Axes>"
      ]
     },
     "metadata": {
      "needs_background": "light"
     },
     "output_type": "display_data"
    }
   ],
   "source": [
    "variables = {'windSpeed': stats.lognorm,\n",
    "            'temperature': stats.norm,\n",
    "            'precipIntensity': stats.lognorm,}\n",
    "\n",
    "labels = {'windSpeed': 'Wind Speed (m/s)',\n",
    "         'temperature': 'Ambient Temperature (C)',\n",
    "         'precipIntensity': 'Precipitation (mm?)'}\n",
    "\n",
    "distributions = {'windSpeed': 'Lognormal',\n",
    "         'temperature': 'Normal',\n",
    "         'precipIntensity': 'Exponential'}\n",
    "\n",
    "colors = ['g','b','r']\n",
    "\n",
    "param_approx = {}\n",
    "\n",
    "fig, ax = plt.subplots(figsize=(8,2), ncols=3)\n",
    "\n",
    "for i, var in enumerate(variables.keys()):    \n",
    "    idx = pd.notnull(weatherData[var])  \n",
    "    if i == 1:\n",
    "        idx &= weatherData[var]>0#0.0010\n",
    "    params = variables[var].fit(weatherData[var][idx])\n",
    "    \n",
    "    param_approx[var] = params\n",
    "    \n",
    "#     if i == 1:\n",
    "#         bins=np.linspace(0,0.1,100)\n",
    "#     else:\n",
    "    bins=100\n",
    "\n",
    "    ax[i].hist(weatherData[var][idx].tolist(), bins=bins, label='Observations', color=colors[i], alpha=0.5)\n",
    "        \n",
    "    ax2 = ax[i].twinx()\n",
    "    xvals = np.linspace(weatherData[var].min(), weatherData[var].max(), 100)\n",
    "    ax2.plot(xvals, variables[var].pdf(xvals, *params), color=colors[i], lw=2, label='%s Approx'%(distributions[var]))\n",
    "    if i == 1:\n",
    "        ax[i].set_yscale('log')\n",
    "        ax2.set_yscale('log')\n",
    "    else:\n",
    "        ax2.set_ylim(0,ax2.get_ylim()[1])\n",
    "    \n",
    "    ax[i].set_title(var.upper())\n",
    "    ax[i].set_yticks([])\n",
    "    ax2.set_yticks([])\n",
    "    ax[i].set_xlabel(labels[var])\n",
    "                \n",
    "fig.subplots_adjust(wspace=0.075, left=0.025, right=0.975, bottom=0.25)\n",
    "\n",
    "plt.savefig(figure_path + 'ambient_conditions.png', dpi=100)"
   ]
  },
  {
   "cell_type": "code",
   "execution_count": 1,
   "metadata": {},
   "outputs": [
    {
     "ename": "NameError",
     "evalue": "name 'pd' is not defined",
     "output_type": "error",
     "traceback": [
      "\u001b[0;31m---------------------------------------------------------------------------\u001b[0m",
      "\u001b[0;31mNameError\u001b[0m                                 Traceback (most recent call last)",
      "\u001b[0;32m<ipython-input-1-01b2fac1a5fb>\u001b[0m in \u001b[0;36m<module>\u001b[0;34m\u001b[0m\n\u001b[0;32m----> 1\u001b[0;31m X = pd.DataFrame(columns=['Wind','Precip','Temp'],\n\u001b[0m\u001b[1;32m      2\u001b[0m                  index=range(10*8760))\n\u001b[1;32m      3\u001b[0m \u001b[0;34m\u001b[0m\u001b[0m\n\u001b[1;32m      4\u001b[0m \u001b[0mX\u001b[0m\u001b[0;34m[\u001b[0m\u001b[0;34m'Wind'\u001b[0m\u001b[0;34m]\u001b[0m \u001b[0;34m=\u001b[0m \u001b[0mnp\u001b[0m\u001b[0;34m.\u001b[0m\u001b[0mround\u001b[0m\u001b[0;34m(\u001b[0m\u001b[0mstats\u001b[0m\u001b[0;34m.\u001b[0m\u001b[0mlognorm\u001b[0m\u001b[0;34m.\u001b[0m\u001b[0mrvs\u001b[0m\u001b[0;34m(\u001b[0m\u001b[0;34m*\u001b[0m\u001b[0mparam_approx\u001b[0m\u001b[0;34m[\u001b[0m\u001b[0;34m'windSpeed'\u001b[0m\u001b[0;34m]\u001b[0m\u001b[0;34m,\u001b[0m \u001b[0msize\u001b[0m\u001b[0;34m=\u001b[0m\u001b[0mlen\u001b[0m\u001b[0;34m(\u001b[0m\u001b[0mX\u001b[0m\u001b[0;34m)\u001b[0m\u001b[0;34m)\u001b[0m\u001b[0;34m,\u001b[0m\u001b[0;36m2\u001b[0m\u001b[0;34m)\u001b[0m\u001b[0;34m\u001b[0m\u001b[0;34m\u001b[0m\u001b[0m\n\u001b[1;32m      5\u001b[0m \u001b[0mX\u001b[0m\u001b[0;34m[\u001b[0m\u001b[0;34m'Temp'\u001b[0m\u001b[0;34m]\u001b[0m \u001b[0;34m=\u001b[0m \u001b[0mnp\u001b[0m\u001b[0;34m.\u001b[0m\u001b[0mround\u001b[0m\u001b[0;34m(\u001b[0m\u001b[0mstats\u001b[0m\u001b[0;34m.\u001b[0m\u001b[0mnorm\u001b[0m\u001b[0;34m.\u001b[0m\u001b[0mrvs\u001b[0m\u001b[0;34m(\u001b[0m\u001b[0;34m*\u001b[0m\u001b[0mparam_approx\u001b[0m\u001b[0;34m[\u001b[0m\u001b[0;34m'temperature'\u001b[0m\u001b[0;34m]\u001b[0m\u001b[0;34m,\u001b[0m \u001b[0msize\u001b[0m\u001b[0;34m=\u001b[0m\u001b[0mlen\u001b[0m\u001b[0;34m(\u001b[0m\u001b[0mX\u001b[0m\u001b[0;34m)\u001b[0m\u001b[0;34m)\u001b[0m\u001b[0;34m,\u001b[0m\u001b[0;36m2\u001b[0m\u001b[0;34m)\u001b[0m\u001b[0;34m\u001b[0m\u001b[0;34m\u001b[0m\u001b[0m\n",
      "\u001b[0;31mNameError\u001b[0m: name 'pd' is not defined"
     ]
    }
   ],
   "source": [
    "X = pd.DataFrame(columns=['Wind','Precip','Temp'],\n",
    "                 index=range(10*8760))\n",
    "\n",
    "X['Wind'] = np.round(stats.lognorm.rvs(*param_approx['windSpeed'], size=len(X)),2)\n",
    "X['Temp'] = np.round(stats.norm.rvs(*param_approx['temperature'], size=len(X)),2)\n",
    "\n",
    "X['Load-0.1'] = X['Temp'] + stats.norm.rvs(0, 0.1*np.mean(X['Temp']))\n",
    "X['Load-0.2'] = X['Temp'] + stats.norm.rvs(0, 0.2*np.mean(X['Temp']))\n",
    "X['Load-0.3'] = X['Temp'] + stats.norm.rvs(0, 0.3*np.mean(X['Temp']))\n",
    "\n",
    "\n",
    "X['Precip'] = stats.bernoulli.rvs(sum(weatherData['precipIntensity']>0)/float(len(weatherData)), size=len(X))\n",
    "\n",
    "idx = X['Precip'] == 1\n",
    "X['Precip'].loc[idx] = np.round(stats.lognorm.rvs(*param_approx['precipIntensity'], size=sum(idx)),4)\n",
    "\n",
    "X.to_csv(input_file_path, index_label='time')"
   ]
  },
  {
   "cell_type": "code",
   "execution_count": null,
   "metadata": {},
   "outputs": [],
   "source": []
  }
 ],
 "metadata": {
  "kernelspec": {
   "display_name": "Python 3",
   "language": "python",
   "name": "python3"
  },
  "language_info": {
   "codemirror_mode": {
    "name": "ipython",
    "version": 3
   },
   "file_extension": ".py",
   "mimetype": "text/x-python",
   "name": "python",
   "nbconvert_exporter": "python",
   "pygments_lexer": "ipython3",
   "version": "3.7.5"
  }
 },
 "nbformat": 4,
 "nbformat_minor": 2
}
