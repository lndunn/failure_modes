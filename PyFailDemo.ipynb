{
 "cells": [
  {
   "cell_type": "code",
   "execution_count": 14,
   "metadata": {},
   "outputs": [
    {
     "name": "stdout",
     "output_type": "stream",
     "text": [
      "\u001b[33mDEPRECATION: Python 2.7 reached the end of its life on January 1st, 2020. Please upgrade your Python as Python 2.7 is no longer maintained. A future version of pip will drop support for Python 2.7. More details about Python 2 support in pip, can be found at https://pip.pypa.io/en/latest/development/release-process/#python-2-support\u001b[0m\n",
      "Collecting pymc3\n",
      "  Using cached pymc3-3.7.tar.gz (30.8 MB)\n",
      "\u001b[31mERROR: Package 'pymc3' requires a different Python: 2.7.16 not in '>=3.5.4'\u001b[0m\n"
     ]
    }
   ],
   "source": [
    "!pip install pymc3"
   ]
  },
  {
   "cell_type": "code",
   "execution_count": 15,
   "metadata": {},
   "outputs": [
    {
     "name": "stdout",
     "output_type": "stream",
     "text": [
      "\u001b[33mDEPRECATION: Python 2.7 reached the end of its life on January 1st, 2020. Please upgrade your Python as Python 2.7 is no longer maintained. A future version of pip will drop support for Python 2.7. More details about Python 2 support in pip, can be found at https://pip.pypa.io/en/latest/development/release-process/#python-2-support\u001b[0m\n",
      "Requirement already satisfied: sklearn in /Users/laureldunn/anaconda2/lib/python2.7/site-packages (0.0)\n",
      "Requirement already satisfied: scikit-learn in /Users/laureldunn/anaconda2/lib/python2.7/site-packages (from sklearn) (0.20.3)\n",
      "Requirement already satisfied: numpy>=1.8.2 in /Users/laureldunn/anaconda2/lib/python2.7/site-packages (from scikit-learn->sklearn) (1.16.2)\n",
      "Requirement already satisfied: scipy>=0.13.3 in /Users/laureldunn/anaconda2/lib/python2.7/site-packages (from scikit-learn->sklearn) (1.2.1)\n"
     ]
    }
   ],
   "source": [
    "!pip install sklearn"
   ]
  },
  {
   "cell_type": "code",
   "execution_count": 3,
   "metadata": {},
   "outputs": [
    {
     "name": "stdout",
     "output_type": "stream",
     "text": [
      "The autoreload extension is already loaded. To reload it, use:\n",
      "  %reload_ext autoreload\n"
     ]
    }
   ],
   "source": [
    "import pymc3\n",
    "\n",
    "import pandas as pd\n",
    "import numpy as np\n",
    "\n",
    "import os\n",
    "import sys\n",
    "import json\n",
    "import datetime\n",
    "\n",
    "from matplotlib import pyplot as plt\n",
    "from scipy import stats, special\n",
    "\n",
    "# sys.path.append('pyfail')\n",
    "\n",
    "from pyfail import *\n",
    "# import utils\n",
    "# import links\n",
    "# import generators\n",
    "# import estimation\n",
    "# import evaluation\n",
    "\n",
    "# from sklearn import mixture\n",
    "\n",
    "%load_ext autoreload\n",
    "%autoreload 2\n"
   ]
  },
  {
   "cell_type": "code",
   "execution_count": 4,
   "metadata": {},
   "outputs": [
    {
     "data": {
      "text/plain": [
       "['__builtins__',\n",
       " '__cached__',\n",
       " '__doc__',\n",
       " '__file__',\n",
       " '__loader__',\n",
       " '__name__',\n",
       " '__package__',\n",
       " '__path__',\n",
       " '__spec__']"
      ]
     },
     "execution_count": 4,
     "metadata": {},
     "output_type": "execute_result"
    }
   ],
   "source": [
    "dir(pf)"
   ]
  },
  {
   "cell_type": "code",
   "execution_count": 17,
   "metadata": {},
   "outputs": [],
   "source": [
    "X = pd.read_csv('inputs/weather.csv', index_col='time')\n"
   ]
  },
  {
   "cell_type": "code",
   "execution_count": 18,
   "metadata": {},
   "outputs": [],
   "source": [
    "# Specify mean and distribution of failure model parameters to run"
   ]
  },
  {
   "cell_type": "code",
   "execution_count": 19,
   "metadata": {},
   "outputs": [],
   "source": [
    "beta = 0.2\n",
    "alpha = 65\n",
    "cov = 0.1\n",
    "\n",
    "fleet_size = 100"
   ]
  },
  {
   "cell_type": "code",
   "execution_count": 20,
   "metadata": {},
   "outputs": [],
   "source": [
    "# Generate failure model parameters from sampling distribution"
   ]
  },
  {
   "cell_type": "code",
   "execution_count": 21,
   "metadata": {},
   "outputs": [
    {
     "ename": "NameError",
     "evalue": "name 'links' is not defined",
     "output_type": "error",
     "traceback": [
      "\u001b[0;31m---------------------------------------------------------------------------\u001b[0m",
      "\u001b[0;31mNameError\u001b[0m                                 Traceback (most recent call last)",
      "\u001b[0;32m<ipython-input-21-b4732f2724cc>\u001b[0m in \u001b[0;36m<module>\u001b[0;34m\u001b[0m\n\u001b[1;32m      7\u001b[0m                           seed=0)\n\u001b[1;32m      8\u001b[0m \u001b[0;34m\u001b[0m\u001b[0m\n\u001b[0;32m----> 9\u001b[0;31m \u001b[0mfailures\u001b[0m\u001b[0;34m,\u001b[0m \u001b[0mfailure_rate\u001b[0m \u001b[0;34m=\u001b[0m \u001b[0mgenerators\u001b[0m\u001b[0;34m.\u001b[0m\u001b[0mfailure_data\u001b[0m\u001b[0;34m(\u001b[0m\u001b[0mparams\u001b[0m\u001b[0;34m,\u001b[0m \u001b[0mX\u001b[0m\u001b[0;34m,\u001b[0m \u001b[0mlinks\u001b[0m\u001b[0;34m.\u001b[0m\u001b[0mLink\u001b[0m\u001b[0;34m,\u001b[0m \u001b[0mfleet_size\u001b[0m\u001b[0;34m=\u001b[0m\u001b[0mfleet_size\u001b[0m\u001b[0;34m)\u001b[0m\u001b[0;34m\u001b[0m\u001b[0;34m\u001b[0m\u001b[0m\n\u001b[0m\u001b[1;32m     10\u001b[0m \u001b[0;34m\u001b[0m\u001b[0m\n\u001b[1;32m     11\u001b[0m \u001b[0mdf\u001b[0m \u001b[0;34m=\u001b[0m \u001b[0mpd\u001b[0m\u001b[0;34m.\u001b[0m\u001b[0mDataFrame\u001b[0m\u001b[0;34m(\u001b[0m\u001b[0mindex\u001b[0m\u001b[0;34m=\u001b[0m\u001b[0mfailures\u001b[0m\u001b[0;34m.\u001b[0m\u001b[0mindex\u001b[0m\u001b[0;34m)\u001b[0m\u001b[0;34m\u001b[0m\u001b[0;34m\u001b[0m\u001b[0m\n",
      "\u001b[0;31mNameError\u001b[0m: name 'links' is not defined"
     ]
    }
   ],
   "source": [
    "names = ['alpha','beta']\n",
    "params = generators.params([alpha, beta],\n",
    "                           fleet_size, \n",
    "                           variance=[alpha*cov, None],\n",
    "                           distributions=[stats.norm, None],\n",
    "                           names=['alpha','beta'],\n",
    "                          seed=0)\n",
    "\n",
    "failures, failure_rate = generators.failure_data(params, X, links.Link, fleet_size=fleet_size)\n",
    "\n",
    "df = pd.DataFrame(index=failures.index)\n",
    "df['count'] = failures\n",
    "df['rate'] = failure_rate\n",
    "\n"
   ]
  },
  {
   "cell_type": "code",
   "execution_count": null,
   "metadata": {},
   "outputs": [],
   "source": [
    "\n",
    "\n",
    "# specify priors\n",
    "alpha = pymc.Uniform('alpha', 0,100, value=np.average(50))\n",
    "beta = pymc.Uniform('beta', 0.2, value=1)\n",
    "\n",
    "# define link function relating failures to conditions X\n",
    "@pymc.deterministic\n",
    "def model(a=alpha, b=beta, x=X['Wind'], s=fleet_size):\n",
    "    return s/(1+np.exp(-1*b*(x-a)))\n",
    "\n",
    "failure_process = pymc.Poisson('failures', mu=model, value=failures, observed=True)\n",
    "\n",
    "\n",
    "sampler = pymc.MCMC([alpha, beta, model, X['Wind'], failure_process, failures])\n",
    "\n",
    "# sampler.use_step_method(pymc.AdaptiveMetropolis, [alpha, beta],\n",
    "#                         scales={alpha:0.1, beta:0.1})\n",
    "\n",
    "sampler.use_step_method(pymc.Gibbs, [alpha, beta], pymc.Normal('\\hat{alpha}', ))\n",
    "\n",
    "sampler.sample(iter=1000)"
   ]
  }
 ],
 "metadata": {
  "kernelspec": {
   "display_name": "Python 3",
   "language": "python",
   "name": "python3"
  },
  "language_info": {
   "codemirror_mode": {
    "name": "ipython",
    "version": 3
   },
   "file_extension": ".py",
   "mimetype": "text/x-python",
   "name": "python",
   "nbconvert_exporter": "python",
   "pygments_lexer": "ipython3",
   "version": "3.8.2"
  }
 },
 "nbformat": 4,
 "nbformat_minor": 2
}
