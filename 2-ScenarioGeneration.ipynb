{
 "cells": [
  {
   "cell_type": "markdown",
   "metadata": {},
   "source": [
    "# Please excuse the mess!\n",
    "\n",
    "# I haven't properly started working on this notebook\n",
    "\n",
    "\n",
    "### The general idea\n",
    "The general idea is to be able to express failure parameters in terms of really inuitive concepts like \n",
    "- mean time to failure (or expected lifespan -- e.g., 50 years)\n",
    "- min wind speed (where failure rates start to increase)\n",
    "- max wind speed (where failure is basically guaranteed)\n",
    "\n",
    "I would then generate the less-intuitive failure parameters based on these metrics.\n",
    "\n",
    "### Things to revisit\n",
    "\n",
    "To use or not to use the log link function...\n",
    "- **Pros:** Conventional for GLM models of Poisson processes -- guarantees that failure rates aren't negative. \n",
    "- **Cons:** This step feels more complicated than it needs to be.\n",
    "- **Alternative:** Specify non-negative hyperpriors (means I can't use a normal distribution)\n",
    "    \n",
    "Reasonable assumptions for equipment lifetime"
   ]
  },
  {
   "cell_type": "code",
   "execution_count": 16,
   "metadata": {},
   "outputs": [],
   "source": [
    "import pandas as pd\n",
    "import numpy as np\n",
    "from matplotlib import pyplot as plt"
   ]
  },
  {
   "cell_type": "code",
   "execution_count": 2,
   "metadata": {},
   "outputs": [],
   "source": [
    "time_to_failure = 50 # years"
   ]
  },
  {
   "cell_type": "code",
   "execution_count": 3,
   "metadata": {},
   "outputs": [],
   "source": [
    "lam = 1./(time_to_failure*8760)"
   ]
  },
  {
   "cell_type": "code",
   "execution_count": 4,
   "metadata": {},
   "outputs": [
    {
     "data": {
      "text/plain": [
       "2.2831050228310503e-06"
      ]
     },
     "execution_count": 4,
     "metadata": {},
     "output_type": "execute_result"
    }
   ],
   "source": [
    "lam"
   ]
  },
  {
   "cell_type": "code",
   "execution_count": 5,
   "metadata": {},
   "outputs": [
    {
     "data": {
      "text/plain": [
       "-12.989974189358582"
      ]
     },
     "execution_count": 5,
     "metadata": {},
     "output_type": "execute_result"
    }
   ],
   "source": [
    "np.log(lam)"
   ]
  },
  {
   "cell_type": "code",
   "execution_count": 56,
   "metadata": {},
   "outputs": [],
   "source": [
    "wind_low = 20\n",
    "wind_high = 100\n",
    "\n",
    "time_low = 50\n",
    "time_high = 1./8760\n",
    "\n",
    "lam_low = 1./(time_low*8760)\n",
    "lam_high = 1./(time_high*8760)\n",
    "\n",
    "b = np.log(lam_low)\n",
    "a = (1./np.log(wind_high-wind_low))*np.log(lam_high/lam_low)"
   ]
  },
  {
   "cell_type": "code",
   "execution_count": 57,
   "metadata": {},
   "outputs": [
    {
     "name": "stderr",
     "output_type": "stream",
     "text": [
      "/Users/laureldunn/anaconda2/lib/python2.7/site-packages/ipykernel_launcher.py:2: RuntimeWarning: divide by zero encountered in log\n",
      "  \n"
     ]
    }
   ],
   "source": [
    "wind = np.linspace(0,110)\n",
    "lam = np.exp(a*np.log(pd.Series(wind-wind_low).where(wind>wind_low,0))+b)"
   ]
  },
  {
   "cell_type": "code",
   "execution_count": 59,
   "metadata": {},
   "outputs": [
    {
     "data": {
      "image/png": "[encoded data removed]",
      "text/plain": [
       "<Figure size 432x288 with 1 Axes>"
      ]
     },
     "metadata": {
      "needs_background": "light"
     },
     "output_type": "display_data"
    }
   ],
   "source": [
    "fig, ax = plt.subplots()\n",
    "ax.plot(wind, lam)\n",
    "ax.set_ylabel('Time to failure (hours)')\n",
    "plt.show()"
   ]
  },
  {
   "cell_type": "code",
   "execution_count": null,
   "metadata": {},
   "outputs": [],
   "source": []
  }
 ],
 "metadata": {
  "kernelspec": {
   "display_name": "Python 2",
   "language": "python",
   "name": "python2"
  },
  "language_info": {
   "codemirror_mode": {
    "name": "ipython",
    "version": 2
   },
   "file_extension": ".py",
   "mimetype": "text/x-python",
   "name": "python",
   "nbconvert_exporter": "python",
   "pygments_lexer": "ipython2",
   "version": "2.7.16"
  }
 },
 "nbformat": 4,
 "nbformat_minor": 2
}
